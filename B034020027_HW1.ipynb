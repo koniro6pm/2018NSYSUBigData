{
 "cells": [
  {
   "cell_type": "markdown",
   "metadata": {},
   "source": [
    "\n",
    "# 2018 巨量資料分析導論\n",
    "## B034020027 陳韻卉 HW1\n",
    "\n",
    "此份作業是弄清楚\n",
    "那些變數型態是call-by-value , call-by-reference\n",
    "\n",
    "mutable objects(可變的): list, dict, set 是 call-by-reference\n",
    "\n",
    "immutable objects(不可變的): boolean, int, float, long, str, unicode, tuple 是 call-by-value"
   ]
  },
  {
   "cell_type": "code",
   "execution_count": 9,
   "metadata": {},
   "outputs": [
    {
     "name": "stdout",
     "output_type": "stream",
     "text": [
      "0 zero [0] (0,) 0 {0: 'zero'}\n"
     ]
    }
   ],
   "source": [
    "a = 0 \n",
    "b = \"zero\" \n",
    "c = [0]\n",
    "d = (0,)\n",
    "dd = (0)\n",
    "e = {0: \"zero\"}\n",
    "\n",
    "print(a,b,c,d,dd,e)"
   ]
  },
  {
   "cell_type": "code",
   "execution_count": 11,
   "metadata": {},
   "outputs": [
    {
     "data": {
      "text/plain": [
       "int"
      ]
     },
     "execution_count": 11,
     "metadata": {},
     "output_type": "execute_result"
    }
   ],
   "source": [
    "type(dd)   #tuple宣告 如果只有一個Index,要加上\",\"  不然只會是int"
   ]
  },
  {
   "cell_type": "code",
   "execution_count": 12,
   "metadata": {},
   "outputs": [
    {
     "data": {
      "text/plain": [
       "0"
      ]
     },
     "execution_count": 12,
     "metadata": {},
     "output_type": "execute_result"
    }
   ],
   "source": [
    "dd"
   ]
  },
  {
   "cell_type": "code",
   "execution_count": 24,
   "metadata": {},
   "outputs": [],
   "source": [
    "a1 = a\n",
    "b1 = b\n",
    "c1 = c\n",
    "d1 = d\n",
    "e1 = e"
   ]
  },
  {
   "cell_type": "code",
   "execution_count": 18,
   "metadata": {},
   "outputs": [],
   "source": [
    "a1 = 1\n",
    "b1 = \"one\"\n",
    "c1.insert(1,1) #增加c1 index1  值為1    \n",
    "d1 = (1,)\n",
    "e1[1] = \"one\""
   ]
  },
  {
   "cell_type": "code",
   "execution_count": 19,
   "metadata": {},
   "outputs": [
    {
     "name": "stdout",
     "output_type": "stream",
     "text": [
      "1 one [0, 1, 1, 1] (1,) {0: 'zero', 1: 'one'}\n",
      "0 zero [0, 1, 1, 1] (0,) {0: 'zero', 1: 'one'}\n"
     ]
    }
   ],
   "source": [
    "print(a1,b1,c1,d1,e1)\n",
    "print(a,b,c,d,e)  # 改變c1和e1　c和e也一起改變了!"
   ]
  },
  {
   "cell_type": "code",
   "execution_count": null,
   "metadata": {},
   "outputs": [],
   "source": []
  }
 ],
 "metadata": {
  "kernelspec": {
   "display_name": "Python 3",
   "language": "python",
   "name": "python3"
  },
  "language_info": {
   "codemirror_mode": {
    "name": "ipython",
    "version": 3
   },
   "file_extension": ".py",
   "mimetype": "text/x-python",
   "name": "python",
   "nbconvert_exporter": "python",
   "pygments_lexer": "ipython3",
   "version": "3.6.4"
  }
 },
 "nbformat": 4,
 "nbformat_minor": 2
}
